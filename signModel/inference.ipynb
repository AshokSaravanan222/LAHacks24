{
 "cells": [
  {
   "cell_type": "code",
   "execution_count": 24,
   "metadata": {},
   "outputs": [],
   "source": [
    "import tensorflow as tf\n",
    "import pandas as pd\n",
    "import numpy as np"
   ]
  },
  {
   "cell_type": "code",
   "execution_count": 25,
   "metadata": {},
   "outputs": [],
   "source": [
    "interpreter = tf.lite.Interpreter(model_path=\"model.tflite\")\n",
    "prediction_fn = interpreter.get_signature_runner('serving_default')\n",
    "\n",
    "input_details = interpreter.get_input_details()\n",
    "output_details = interpreter.get_output_details()"
   ]
  },
  {
   "cell_type": "code",
   "execution_count": 26,
   "metadata": {},
   "outputs": [
    {
     "name": "stdout",
     "output_type": "stream",
     "text": [
      "[{'name': 'serving_default_inputs:0', 'index': 0, 'shape': array([  1, 543,   3], dtype=int32), 'shape_signature': array([ -1, 543,   3], dtype=int32), 'dtype': <class 'numpy.float32'>, 'quantization': (0.0, 0), 'quantization_parameters': {'scales': array([], dtype=float32), 'zero_points': array([], dtype=int32), 'quantized_dimension': 0}, 'sparsity_parameters': {}}]\n",
      "[{'name': 'StatefulPartitionedCall:0', 'index': 1672, 'shape': array([250], dtype=int32), 'shape_signature': array([250], dtype=int32), 'dtype': <class 'numpy.float32'>, 'quantization': (0.0, 0), 'quantization_parameters': {'scales': array([], dtype=float32), 'zero_points': array([], dtype=int32), 'quantized_dimension': 0}, 'sparsity_parameters': {}}]\n"
     ]
    }
   ],
   "source": [
    "print(input_details)\n",
    "print(output_details)"
   ]
  },
  {
   "cell_type": "code",
   "execution_count": 27,
   "metadata": {},
   "outputs": [],
   "source": [
    "pq_path = \"data/2044/3127189.parquet\"\n",
    "ROWS_PER_FRAME = 543"
   ]
  },
  {
   "cell_type": "code",
   "execution_count": 28,
   "metadata": {},
   "outputs": [],
   "source": [
    "data_columns = ['x', 'y', 'z']\n",
    "data = pd.read_parquet(pq_path, columns=data_columns) # change the code \n",
    "n_frames = int(len(data) / ROWS_PER_FRAME)\n",
    "data = data.values.reshape(n_frames, ROWS_PER_FRAME, len(data_columns))\n",
    "xyz = data.astype(np.float32)"
   ]
  },
  {
   "cell_type": "code",
   "execution_count": 29,
   "metadata": {},
   "outputs": [
    {
     "data": {
      "text/plain": [
       "4"
      ]
     },
     "execution_count": 29,
     "metadata": {},
     "output_type": "execute_result"
    }
   ],
   "source": [
    "from multiprocessing import cpu_count\n",
    "def read_json_file(file_path):\n",
    "    \"\"\"Read a JSON file and parse it into a Python object.\n",
    "\n",
    "    Args:\n",
    "        file_path (str): The path to the JSON file to read.\n",
    "\n",
    "    Returns:\n",
    "        dict: A dictionary object representing the JSON data.\n",
    "        \n",
    "    Raises:\n",
    "        FileNotFoundError: If the specified file path does not exist.\n",
    "        ValueError: If the specified file path does not contain valid JSON data.\n",
    "    \"\"\"\n",
    "    try:\n",
    "        # Open the file and load the JSON data into a Python object\n",
    "        with open(file_path, 'r') as file:\n",
    "            json_data = json.load(file)\n",
    "        return json_data\n",
    "    except FileNotFoundError:\n",
    "        # Raise an error if the file path does not exist\n",
    "        raise FileNotFoundError(f\"File not found: {file_path}\")\n",
    "    except ValueError:\n",
    "        # Raise an error if the file does not contain valid JSON data\n",
    "        raise ValueError(f\"Invalid JSON data in file: {file_path}\")\n",
    "\n",
    "cpu_count()"
   ]
  },
  {
   "cell_type": "code",
   "execution_count": 30,
   "metadata": {},
   "outputs": [
    {
     "name": "stdout",
     "output_type": "stream",
     "text": [
      "\n",
      "\n",
      "... LOAD SIGN TO PREDICTION INDEX MAP FROM JSON FILE ...\n",
      "\n"
     ]
    }
   ],
   "source": [
    "import os\n",
    "import json\n",
    "train_df = pd.read_csv('train.csv')\n",
    "print(\"\\n\\n... LOAD SIGN TO PREDICTION INDEX MAP FROM JSON FILE ...\\n\")\n",
    "s2p_map = {k.lower():v for k,v in read_json_file(os.path.join(\"sign_to_prediction_index_map.json\")).items()}\n",
    "p2s_map = {v:k for k,v in read_json_file(os.path.join(\"sign_to_prediction_index_map.json\")).items()}\n",
    "encoder = lambda x: s2p_map.get(x.lower())\n",
    "decoder = lambda x: p2s_map.get(x)\n",
    "# print(s2p_map)\n",
    "train_df['label'] = train_df.sign.map(encoder)"
   ]
  },
  {
   "cell_type": "code",
   "execution_count": 31,
   "metadata": {},
   "outputs": [
    {
     "name": "stdout",
     "output_type": "stream",
     "text": [
      "[-8.86820793e-01  6.81655049e-01  9.37719643e-01  6.66603386e-01\n",
      " -4.61473018e-02  3.79723966e-01 -1.14137733e+00  9.99376476e-01\n",
      "  1.71679929e-01  1.25748551e+00 -9.05560888e-03 -5.19064248e-01\n",
      " -1.50597262e+00 -5.48428535e-01 -1.36578274e+00 -5.57539940e-01\n",
      " -1.04789793e+00  2.34915629e-01 -3.73249382e-01 -9.08312798e-01\n",
      " -1.67654896e+00 -8.54372084e-01 -1.27558935e+00 -7.37284124e-01\n",
      "  1.40889657e+00 -1.64499998e+00  1.11103572e-01 -6.17511749e-01\n",
      " -4.91352260e-01 -1.56341648e+00 -7.31140554e-01 -7.82747269e-01\n",
      " -8.09972659e-02 -5.32567799e-01 -8.34588647e-01  2.97168851e-01\n",
      " -1.01388074e-01  5.86076617e-01  6.99312806e-01  3.24538618e-01\n",
      " -2.72002131e-01  3.68671227e+00 -5.39129853e-01  2.15459913e-01\n",
      " -1.00367177e+00 -3.93847197e-01 -4.07405943e-01 -3.28699350e-01\n",
      " -5.63031316e-01  7.05047548e-01 -6.60112143e-01 -1.08669126e+00\n",
      "  2.72267866e+00  2.18810415e+00 -2.19982195e+00  9.81597006e-02\n",
      "  1.02145247e-01 -8.17297220e-01  1.64145172e-01 -1.09884191e+00\n",
      " -9.66374755e-01 -2.70656645e-01 -1.65250731e+00 -1.19160986e+00\n",
      " -1.18892217e+00  2.70074964e-01 -1.41711497e+00 -8.86607766e-01\n",
      "  2.34858489e+00 -4.09549214e-02 -2.77603179e-01 -2.69072086e-01\n",
      "  1.05650826e+01  2.91545749e+00 -4.57947999e-01  1.09516776e+00\n",
      "  3.09717447e-01  4.78525050e-02  1.26411170e-01 -7.60274455e-02\n",
      " -3.98357630e-01 -1.67381871e+00 -1.83851957e+00  2.47789788e+00\n",
      "  5.66674352e-01  6.99983716e-01  2.88633490e+00 -7.08794296e-01\n",
      "  6.53982043e-01 -6.64998412e-01 -7.88989365e-01 -1.67126930e+00\n",
      "  4.59843785e-01  3.29160690e-01 -9.17513430e-01 -2.48713158e-02\n",
      "  9.21371996e-01  6.02781773e-01 -5.75014412e-01 -1.16423690e+00\n",
      " -1.68311131e+00  1.96025148e-01 -1.67651087e-01  1.05513275e+00\n",
      " -4.45386827e-01 -7.11135745e-01  6.93810403e-01  1.27306712e+00\n",
      "  2.41214037e-02  2.28413150e-01 -5.22147000e-01  1.58387625e+00\n",
      " -1.98577017e-01 -5.98725975e-01 -2.74952054e-01  3.10207438e+00\n",
      " -2.07017854e-01  9.28802073e-01 -1.18658996e+00 -8.64051342e-01\n",
      "  1.15049340e-01 -2.03020245e-01 -1.82111099e-01  1.19652486e+00\n",
      " -1.93605736e-01 -6.49333477e-01 -1.22577190e-01 -7.67821193e-01\n",
      " -1.11279285e+00  2.15390518e-01 -1.25642788e+00  3.66048425e-01\n",
      "  5.16502440e-01 -1.04816902e+00  3.12169957e+00  7.34180510e-01\n",
      "  1.27357173e+00  4.98055294e-02 -1.51500022e+00 -1.68598890e-01\n",
      " -1.21725464e+00 -1.90010643e+00 -7.86435306e-02 -4.98924285e-01\n",
      " -1.59300303e+00 -1.13844894e-01 -1.73899436e+00 -1.18405509e+00\n",
      " -2.73047239e-01  2.85261750e+00 -4.80475396e-01  1.42351162e+00\n",
      "  5.54259777e-01  9.19642746e-02 -1.00974835e-01  3.80137491e+00\n",
      " -2.50010937e-01 -1.37954748e+00 -6.45398974e-01 -9.52158868e-01\n",
      "  1.27721518e-01 -8.98555756e-01 -8.92670631e-01 -9.83849585e-01\n",
      "  4.90276456e-01 -1.05316722e+00 -8.71308386e-01 -8.01829219e-01\n",
      " -1.13672030e+00  1.40369380e+00 -8.32738638e-01 -2.04094458e+00\n",
      " -1.73484111e+00 -9.86603796e-01 -4.76796985e-01 -9.90016878e-01\n",
      "  2.61695758e-02 -1.58708835e+00 -8.01020503e-01 -1.90855965e-01\n",
      " -1.29129648e+00 -4.66738999e-01 -7.86547899e-01 -9.44621205e-01\n",
      " -1.71316636e+00 -1.97442663e+00 -1.28662431e+00  5.23755908e-01\n",
      " -2.55751550e-01 -1.58163452e+00  6.09464124e-02 -3.84529710e-01\n",
      "  5.41853130e-01  1.97303161e-01 -5.70223272e-01 -6.81196451e-01\n",
      " -3.67692083e-01 -1.26699865e+00 -9.80505884e-01 -1.89675331e+00\n",
      " -1.38963127e+00  8.53774488e-01 -4.12453055e-01 -1.95743871e+00\n",
      " -2.55095251e-02  4.66941744e-01 -2.33118743e-01 -1.75344849e+00\n",
      " -1.12507856e+00 -2.15461329e-01 -1.03127897e+00 -6.12262309e-01\n",
      " -7.18393743e-01  1.12693615e-01 -1.29853594e+00  3.64880204e-01\n",
      "  1.03628719e+00  3.39518738e+00 -8.68439138e-01 -5.69115520e-01\n",
      " -5.29400706e-01 -9.91373181e-01  1.23202348e+00  1.82907450e+00\n",
      "  4.21892405e-01 -3.97885859e-01 -1.28846419e+00 -1.44348025e+00\n",
      " -1.42273176e+00 -1.33974099e+00 -3.32670152e-01 -2.45952129e-01\n",
      " -8.41623127e-01 -6.25580370e-01 -2.01489830e+00 -1.38783288e+00\n",
      "  1.75199673e-01 -6.46577597e-01 -1.38837481e+00  9.74285081e-02\n",
      " -6.00106180e-01 -4.54556882e-01 -6.75932884e-01 -1.38000369e+00\n",
      " -3.80881988e-02 -8.80320609e-01 -1.48128247e+00 -8.76113474e-02\n",
      " -6.53524697e-01 -1.21577001e+00]\n"
     ]
    },
    {
     "data": {
      "text/plain": [
       "'eye'"
      ]
     },
     "execution_count": 31,
     "metadata": {},
     "output_type": "execute_result"
    }
   ],
   "source": [
    "\n",
    "output = prediction_fn(inputs=xyz)\n",
    "p = output['outputs'].reshape(-1)\n",
    "print(p)\n",
    "decoder(p.argmax())\n"
   ]
  },
  {
   "cell_type": "code",
   "execution_count": null,
   "metadata": {},
   "outputs": [],
   "source": [
    "# get the frame data from each parquet file in the 20444"
   ]
  }
 ],
 "metadata": {
  "kernelspec": {
   "display_name": "tf",
   "language": "python",
   "name": "python3"
  },
  "language_info": {
   "codemirror_mode": {
    "name": "ipython",
    "version": 3
   },
   "file_extension": ".py",
   "mimetype": "text/x-python",
   "name": "python",
   "nbconvert_exporter": "python",
   "pygments_lexer": "ipython3",
   "version": "3.11.9"
  }
 },
 "nbformat": 4,
 "nbformat_minor": 2
}
